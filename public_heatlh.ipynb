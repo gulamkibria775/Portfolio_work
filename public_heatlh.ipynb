{
 "cells": [
  {
   "cell_type": "code",
   "execution_count": 1,
   "id": "c46f0bc4",
   "metadata": {},
   "outputs": [],
   "source": [
    "import os\n",
    "import re\n",
    "import string\n",
    "import numpy as np\n",
    "import pandas as pd\n",
    "import matplotlib.pyplot as plt\n",
    "import seaborn as sns\n",
    "from collections import Counter\n",
    "\n",
    "# NLP\n",
    "import nltk\n",
    "from nltk.corpus import stopwords\n",
    "from nltk.stem import WordNetLemmatizer\n",
    "from nltk.tokenize import TweetTokenizer\n",
    "from nltk.sentiment import SentimentIntensityAnalyzer\n",
    "\n",
    "# sklearn\n",
    "from sklearn.feature_extraction.text import TfidfVectorizer, CountVectorizer\n",
    "from sklearn.model_selection import train_test_split, GridSearchCV, cross_val_score, StratifiedKFold\n",
    "from sklearn.linear_model import LogisticRegression\n",
    "from sklearn.svm import LinearSVC\n",
    "from sklearn.ensemble import RandomForestClassifier\n",
    "from sklearn.metrics import (confusion_matrix, classification_report, roc_auc_score, roc_curve,\n",
    "                             precision_recall_fscore_support, accuracy_score)\n",
    "from sklearn.feature_selection import SelectKBest, chi2\n",
    "from sklearn.pipeline import Pipeline\n",
    "\n",
    "# Imbalanced handling\n",
    "from imblearn.over_sampling import SMOTE\n",
    "\n",
    "import warnings\n",
    "warnings.filterwarnings(\"ignore\") \n"
   ]
  },
  {
   "cell_type": "code",
   "execution_count": 2,
   "id": "81b53670",
   "metadata": {},
   "outputs": [],
   "source": [
    "# Visualization settings\n",
    "sns.set(style='whitegrid')\n",
    "plt.rcParams['figure.figsize'] = (10,6)"
   ]
  },
  {
   "cell_type": "code",
   "execution_count": 3,
   "id": "581e5e4c",
   "metadata": {},
   "outputs": [
    {
     "name": "stdout",
     "output_type": "stream",
     "text": [
      "Raw data shape: (6000, 3)\n",
      "Index(['tweet_id', 'label', 'tweet_text'], dtype='object')\n"
     ]
    }
   ],
   "source": [
    "\n",
    "DATA_PATH = \"/media/kibria/624309e6-cae1-4eca-a603-4ebc61fc0d9b/data/archive (2)/covid-19_vaccine_tweets_with_sentiment.csv\"\n",
    "\n",
    "# Try with Windows-1252 first\n",
    "df = pd.read_csv(DATA_PATH, encoding=\"cp1252\")  # or encoding=\"ISO-8859-1\"\n",
    "print('Raw data shape:', df.shape)\n",
    "print(df.columns)"
   ]
  },
  {
   "cell_type": "code",
   "execution_count": 4,
   "id": "d1653c95",
   "metadata": {},
   "outputs": [
    {
     "data": {
      "text/html": [
       "<div>\n",
       "<style scoped>\n",
       "    .dataframe tbody tr th:only-of-type {\n",
       "        vertical-align: middle;\n",
       "    }\n",
       "\n",
       "    .dataframe tbody tr th {\n",
       "        vertical-align: top;\n",
       "    }\n",
       "\n",
       "    .dataframe thead th {\n",
       "        text-align: right;\n",
       "    }\n",
       "</style>\n",
       "<table border=\"1\" class=\"dataframe\">\n",
       "  <thead>\n",
       "    <tr style=\"text-align: right;\">\n",
       "      <th></th>\n",
       "      <th>tweet_id</th>\n",
       "      <th>label</th>\n",
       "      <th>tweet_text</th>\n",
       "    </tr>\n",
       "  </thead>\n",
       "  <tbody>\n",
       "    <tr>\n",
       "      <th>0</th>\n",
       "      <td>1.360342e+18</td>\n",
       "      <td>1</td>\n",
       "      <td>4,000 a day dying from the so called Covid-19 ...</td>\n",
       "    </tr>\n",
       "    <tr>\n",
       "      <th>1</th>\n",
       "      <td>1.382896e+18</td>\n",
       "      <td>2</td>\n",
       "      <td>Pranam message for today manifested in Dhyan b...</td>\n",
       "    </tr>\n",
       "    <tr>\n",
       "      <th>2</th>\n",
       "      <td>1.375673e+18</td>\n",
       "      <td>2</td>\n",
       "      <td>Hyderabad-based ?@BharatBiotech? has sought fu...</td>\n",
       "    </tr>\n",
       "    <tr>\n",
       "      <th>3</th>\n",
       "      <td>1.381311e+18</td>\n",
       "      <td>1</td>\n",
       "      <td>Confirmation that Chinese #vaccines \"don’t hav...</td>\n",
       "    </tr>\n",
       "    <tr>\n",
       "      <th>4</th>\n",
       "      <td>1.362166e+18</td>\n",
       "      <td>3</td>\n",
       "      <td>Lab studies suggest #Pfizer, #Moderna vaccines...</td>\n",
       "    </tr>\n",
       "  </tbody>\n",
       "</table>\n",
       "</div>"
      ],
      "text/plain": [
       "       tweet_id  label                                         tweet_text\n",
       "0  1.360342e+18      1  4,000 a day dying from the so called Covid-19 ...\n",
       "1  1.382896e+18      2  Pranam message for today manifested in Dhyan b...\n",
       "2  1.375673e+18      2  Hyderabad-based ?@BharatBiotech? has sought fu...\n",
       "3  1.381311e+18      1  Confirmation that Chinese #vaccines \"don’t hav...\n",
       "4  1.362166e+18      3  Lab studies suggest #Pfizer, #Moderna vaccines..."
      ]
     },
     "execution_count": 4,
     "metadata": {},
     "output_type": "execute_result"
    }
   ],
   "source": [
    "df.head()"
   ]
  },
  {
   "cell_type": "code",
   "execution_count": 5,
   "id": "f9042dc3",
   "metadata": {},
   "outputs": [],
   "source": [
    "if 'text' not in df.columns:\n",
    "    # try alternatives\n",
    "    for alt in ['tweet', 'content', 'text_clean', 'tweet_text']:\n",
    "        if alt in df.columns:\n",
    "            df.rename(columns={alt: 'text'}, inplace=True)\n",
    "            break\n",
    "\n",
    "if 'sentiment' not in df.columns:\n",
    "    # try label alternatives\n",
    "    for alt in ['label', 'sentiment_label', 'sentiment_value']:\n",
    "        if alt in df.columns:\n",
    "            df.rename(columns={alt: 'sentiment'}, inplace=True)\n",
    "            break\n"
   ]
  },
  {
   "cell_type": "code",
   "execution_count": 6,
   "id": "503ee44f",
   "metadata": {},
   "outputs": [],
   "source": [
    "# Drop missing\n",
    "df = df.dropna(subset=['text','sentiment']).reset_index(drop=True)"
   ]
  },
  {
   "cell_type": "code",
   "execution_count": 7,
   "id": "a66d4cbe",
   "metadata": {},
   "outputs": [
    {
     "data": {
      "text/html": [
       "<div>\n",
       "<style scoped>\n",
       "    .dataframe tbody tr th:only-of-type {\n",
       "        vertical-align: middle;\n",
       "    }\n",
       "\n",
       "    .dataframe tbody tr th {\n",
       "        vertical-align: top;\n",
       "    }\n",
       "\n",
       "    .dataframe thead th {\n",
       "        text-align: right;\n",
       "    }\n",
       "</style>\n",
       "<table border=\"1\" class=\"dataframe\">\n",
       "  <thead>\n",
       "    <tr style=\"text-align: right;\">\n",
       "      <th></th>\n",
       "      <th>tweet_id</th>\n",
       "      <th>sentiment</th>\n",
       "      <th>text</th>\n",
       "    </tr>\n",
       "  </thead>\n",
       "  <tbody>\n",
       "    <tr>\n",
       "      <th>0</th>\n",
       "      <td>1.360342e+18</td>\n",
       "      <td>1</td>\n",
       "      <td>4,000 a day dying from the so called Covid-19 ...</td>\n",
       "    </tr>\n",
       "    <tr>\n",
       "      <th>1</th>\n",
       "      <td>1.382896e+18</td>\n",
       "      <td>2</td>\n",
       "      <td>Pranam message for today manifested in Dhyan b...</td>\n",
       "    </tr>\n",
       "    <tr>\n",
       "      <th>2</th>\n",
       "      <td>1.375673e+18</td>\n",
       "      <td>2</td>\n",
       "      <td>Hyderabad-based ?@BharatBiotech? has sought fu...</td>\n",
       "    </tr>\n",
       "    <tr>\n",
       "      <th>3</th>\n",
       "      <td>1.381311e+18</td>\n",
       "      <td>1</td>\n",
       "      <td>Confirmation that Chinese #vaccines \"don’t hav...</td>\n",
       "    </tr>\n",
       "    <tr>\n",
       "      <th>4</th>\n",
       "      <td>1.362166e+18</td>\n",
       "      <td>3</td>\n",
       "      <td>Lab studies suggest #Pfizer, #Moderna vaccines...</td>\n",
       "    </tr>\n",
       "  </tbody>\n",
       "</table>\n",
       "</div>"
      ],
      "text/plain": [
       "       tweet_id  sentiment                                               text\n",
       "0  1.360342e+18          1  4,000 a day dying from the so called Covid-19 ...\n",
       "1  1.382896e+18          2  Pranam message for today manifested in Dhyan b...\n",
       "2  1.375673e+18          2  Hyderabad-based ?@BharatBiotech? has sought fu...\n",
       "3  1.381311e+18          1  Confirmation that Chinese #vaccines \"don’t hav...\n",
       "4  1.362166e+18          3  Lab studies suggest #Pfizer, #Moderna vaccines..."
      ]
     },
     "execution_count": 7,
     "metadata": {},
     "output_type": "execute_result"
    }
   ],
   "source": [
    "df.head()"
   ]
  },
  {
   "cell_type": "code",
   "execution_count": 8,
   "id": "601fa912",
   "metadata": {},
   "outputs": [
    {
     "name": "stdout",
     "output_type": "stream",
     "text": [
      "\n",
      "Class distribution:\n",
      "sentiment\n",
      "2    3680\n",
      "3    1900\n",
      "1     420\n",
      "Name: count, dtype: int64\n"
     ]
    }
   ],
   "source": [
    "# Basic class balance\n",
    "class_counts = df['sentiment'].value_counts()\n",
    "print('\\nClass distribution:')\n",
    "print(class_counts)"
   ]
  },
  {
   "cell_type": "code",
   "execution_count": 9,
   "id": "b9a38153",
   "metadata": {},
   "outputs": [
    {
     "data": {
      "image/png": "[encoded data removed]",
      "text/plain": [
       "<Figure size 1000x600 with 1 Axes>"
      ]
     },
     "metadata": {},
     "output_type": "display_data"
    }
   ],
   "source": [
    "# Plot class distribution\n",
    "plt.figure()\n",
    "sns.barplot(x=class_counts.index.astype(str), y=class_counts.values)\n",
    "plt.title('Sentiment Class Distribution')\n",
    "plt.xlabel('Sentiment')\n",
    "plt.ylabel('Count')\n",
    "plt.show()\n"
   ]
  },
  {
   "cell_type": "code",
   "execution_count": 10,
   "id": "4128f605",
   "metadata": {},
   "outputs": [
    {
     "data": {
      "image/png": "[encoded data removed]",
      "text/plain": [
       "<Figure size 1000x600 with 1 Axes>"
      ]
     },
     "metadata": {},
     "output_type": "display_data"
    }
   ],
   "source": [
    "\n",
    "# Tweet length distribution by sentiment\n",
    "df['text_len'] = df['text'].apply(len)\n",
    "plt.figure()\n",
    "sns.boxplot(x='sentiment', y='text_len', data=df)\n",
    "plt.title('Tweet length by Sentiment')\n",
    "plt.show()"
   ]
  },
  {
   "cell_type": "code",
   "execution_count": 11,
   "id": "d94a5b7d",
   "metadata": {},
   "outputs": [
    {
     "name": "stdout",
     "output_type": "stream",
     "text": [
      "\n",
      "Top 15 hashtags:\n",
      "text\n",
      "#moderna              2144\n",
      "#covid19              1354\n",
      "#covaxin              1289\n",
      "#sputnikv             1081\n",
      "#vaccine               918\n",
      "#pfizerbiontech        716\n",
      "#pfizer                620\n",
      "#covidvaccine          566\n",
      "#oxfordastrazeneca     345\n",
      "#astrazeneca           341\n",
      "#sinopharm             334\n",
      "#coronavirus           330\n",
      "#sinovac               328\n",
      "#covid                 327\n",
      "#covid19vaccine        287\n",
      "Name: count, dtype: int64\n"
     ]
    }
   ],
   "source": [
    "# Top hashtags and top words (quick)\n",
    "hashtag_re = re.compile(r\"#\\w+\")\n",
    "\n",
    "all_hashtags = df['text'].str.findall(hashtag_re).explode().dropna().str.lower()\n",
    "print('\\nTop 15 hashtags:')\n",
    "print(all_hashtags.value_counts().head(15))"
   ]
  },
  {
   "cell_type": "code",
   "execution_count": 12,
   "id": "859bb97d",
   "metadata": {},
   "outputs": [
    {
     "name": "stderr",
     "output_type": "stream",
     "text": [
      "[nltk_data] Downloading package punkt to /home/kibria/nltk_data...\n",
      "[nltk_data]   Package punkt is already up-to-date!\n"
     ]
    },
    {
     "name": "stdout",
     "output_type": "stream",
     "text": [
      "\n",
      "Most common words (top 30):\n",
      "[('the', 5210), ('to', 3351), ('of', 3286), ('and', 2364), ('in', 2297), ('vaccine', 2180), ('a', 1765), ('is', 1740), ('for', 1628), ('i', 1381), ('my', 1007), ('on', 966), ('it', 958), ('with', 779), ('you', 766), ('no', 761), ('this', 752), ('first', 729), ('covid', 716), ('that', 713), ('are', 708), ('dose', 681), ('be', 661), ('have', 642), ('at', 629), ('from', 598), ('has', 588), ('by', 582), ('as', 580), ('not', 569)]\n"
     ]
    }
   ],
   "source": [
    "# Tokenize and simple word frequency\n",
    "nltk.download('punkt')\n",
    "\n",
    "tokenizer = TweetTokenizer(reduce_len=True)\n",
    "all_tokens = df['text'].apply(lambda t: tokenizer.tokenize(t.lower()))\n",
    "stop_words = set(stopwords.words('english')) if 'stopwords' in nltk.corpus.__dict__ else set()\n",
    "\n",
    "# build frequency\n",
    "freq = Counter()\n",
    "for tokens in all_tokens:\n",
    "    for t in tokens:\n",
    "        if t.isalpha() and t not in stop_words:\n",
    "            freq[t] += 1\n",
    "\n",
    "most_common = freq.most_common(30)\n",
    "print('\\nMost common words (top 30):')\n",
    "print(most_common)\n"
   ]
  },
  {
   "cell_type": "code",
   "execution_count": 13,
   "id": "a7f29565",
   "metadata": {},
   "outputs": [
    {
     "name": "stdout",
     "output_type": "stream",
     "text": [
      "\n",
      "Cleaning texts (this may take a minute)...\n"
     ]
    },
    {
     "name": "stderr",
     "output_type": "stream",
     "text": [
      "[nltk_data] Downloading package stopwords to /home/kibria/nltk_data...\n",
      "[nltk_data]   Package stopwords is already up-to-date!\n",
      "[nltk_data] Downloading package wordnet to /home/kibria/nltk_data...\n",
      "[nltk_data]   Package wordnet is already up-to-date!\n",
      "[nltk_data] Downloading package omw-1.4 to /home/kibria/nltk_data...\n",
      "[nltk_data]   Package omw-1.4 is already up-to-date!\n"
     ]
    },
    {
     "name": "stdout",
     "output_type": "stream",
     "text": [
      "\n",
      "Example cleaned text:\n",
      "                                                text  \\\n",
      "0  4,000 a day dying from the so called Covid-19 ...   \n",
      "1  Pranam message for today manifested in Dhyan b...   \n",
      "2  Hyderabad-based ?@BharatBiotech? has sought fu...   \n",
      "3  Confirmation that Chinese #vaccines \"don’t hav...   \n",
      "4  Lab studies suggest #Pfizer, #Moderna vaccines...   \n",
      "\n",
      "                                          clean_text  \n",
      "0  day dying called covid vaccine report vaccine ...  \n",
      "1  pranam message today manifested dhyan truth lo...  \n",
      "2  hyderabad based sought fund government ramp pr...  \n",
      "3  confirmation chinese vaccine high protection r...  \n",
      "4  lab study suggest pfizer moderna vaccine prote...  \n"
     ]
    }
   ],
   "source": [
    "\n",
    "\n",
    "nltk.download('stopwords')\n",
    "nltk.download('wordnet')\n",
    "nltk.download('omw-1.4')\n",
    "\n",
    "stop_words = set(stopwords.words('english'))\n",
    "lemmatizer = WordNetLemmatizer()\n",
    "\n",
    "url_re = re.compile(r'https?://\\S+|www\\.\\S+')\n",
    "user_re = re.compile(r'@\\w+')\n",
    "non_alphanum_re = re.compile(r'[^a-zA-Z\\s]')\n",
    "\n",
    "\n",
    "def clean_text(text):\n",
    "    text = str(text)\n",
    "    text = url_re.sub('', text)\n",
    "    text = user_re.sub('', text)\n",
    "    text = text.replace('\\n', ' ')\n",
    "    text = non_alphanum_re.sub(' ', text)\n",
    "    text = text.lower()\n",
    "    tokens = tokenizer.tokenize(text)\n",
    "    tokens = [t for t in tokens if t not in stop_words and len(t) > 1]\n",
    "    tokens = [lemmatizer.lemmatize(t) for t in tokens]\n",
    "    return ' '.join(tokens)\n",
    "\n",
    "# Apply cleaning (can take time)\n",
    "print('\\nCleaning texts (this may take a minute)...')\n",
    "df['clean_text'] = df['text'].apply(clean_text)\n",
    "\n",
    "print('\\nExample cleaned text:')\n",
    "print(df[['text','clean_text']].head())\n"
   ]
  },
  {
   "cell_type": "code",
   "execution_count": 14,
   "id": "802d073f",
   "metadata": {},
   "outputs": [
    {
     "name": "stdout",
     "output_type": "stream",
     "text": [
      "\n",
      "TF-IDF matrix shape: (6000, 20000)\n"
     ]
    },
    {
     "name": "stderr",
     "output_type": "stream",
     "text": [
      "[nltk_data] Downloading package vader_lexicon to\n",
      "[nltk_data]     /home/kibria/nltk_data...\n",
      "[nltk_data]   Package vader_lexicon is already up-to-date!\n"
     ]
    }
   ],
   "source": [
    "vectorizer = TfidfVectorizer(ngram_range=(1,2), max_features=20000)\n",
    "X_tfidf = vectorizer.fit_transform(df['clean_text'])\n",
    "print('\\nTF-IDF matrix shape:', X_tfidf.shape)\n",
    "\n",
    "# 5.2 Lexicon/Rule-based features: VADER polarity scores\n",
    "nltk.download('vader_lexicon')\n",
    "sia = SentimentIntensityAnalyzer()\n",
    "\n",
    "vader_scores = df['text'].apply(lambda t: sia.polarity_scores(str(t)))\n",
    "vader_df = pd.DataFrame(list(vader_scores))\n",
    "# concatenate\n",
    "\n",
    "# 5.3 Simple length/hashtag features\n",
    "X_meta = pd.DataFrame({\n",
    "    'text_len': df['text_len'],\n",
    "    'num_hashtags': df['text'].str.count('#'),\n",
    "    'num_mentions': df['text'].str.count('@'),\n",
    "})\n"
   ]
  },
  {
   "cell_type": "code",
   "execution_count": 15,
   "id": "d67f48f1",
   "metadata": {},
   "outputs": [
    {
     "name": "stdout",
     "output_type": "stream",
     "text": [
      "\n",
      "Label mapping (if applicable): None\n"
     ]
    }
   ],
   "source": [
    "from scipy.sparse import hstack\n",
    "X_final = hstack([X_tfidf, np.array(vader_df), np.array(X_meta)])\n",
    "\n",
    "\n",
    "if df['sentiment'].dtype == object:\n",
    "    y = df['sentiment'].astype('category').cat.codes\n",
    "    label_mapping = dict(enumerate(df['sentiment'].astype('category').cat.categories))\n",
    "else:\n",
    "    y = df['sentiment']\n",
    "    label_mapping = None\n",
    "\n",
    "print('\\nLabel mapping (if applicable):', label_mapping)"
   ]
  },
  {
   "cell_type": "code",
   "execution_count": 16,
   "id": "a6fb0ad6",
   "metadata": {},
   "outputs": [
    {
     "name": "stdout",
     "output_type": "stream",
     "text": [
      "Selected TF-IDF shape: (6000, 5000)\n"
     ]
    }
   ],
   "source": [
    "k = 5000\n",
    "selector = SelectKBest(chi2, k=k)\n",
    "# apply selector to tfidf part (first vectorizer feature count)\n",
    "num_tfidf_features = X_tfidf.shape[1]\n",
    "X_tfidf_selected = selector.fit_transform(X_tfidf, y)\n",
    "print(f\"Selected TF-IDF shape: {X_tfidf_selected.shape}\")"
   ]
  },
  {
   "cell_type": "code",
   "execution_count": 17,
   "id": "290b38a0",
   "metadata": {},
   "outputs": [
    {
     "name": "stdout",
     "output_type": "stream",
     "text": [
      "\n",
      "Train shape: (4800, 5007) Test shape: (1200, 5007)\n",
      "\n",
      "Class distribution in train:\n",
      "sentiment\n",
      "2    2944\n",
      "3    1520\n",
      "1     336\n",
      "Name: count, dtype: int64\n"
     ]
    }
   ],
   "source": [
    "# Rebuild X with selected tfidf + meta + vader\n",
    "X_selected = hstack([X_tfidf_selected, np.array(vader_df), np.array(X_meta)])\n",
    "\n",
    "# ---------------------------\n",
    "# 7. Train-test split and balancing\n",
    "# ---------------------------\n",
    "X_train, X_test, y_train, y_test = train_test_split(X_selected, y, test_size=0.2, random_state=42, stratify=y)\n",
    "print('\\nTrain shape:', X_train.shape, 'Test shape:', X_test.shape)\n",
    "\n",
    "# If classes are imbalanced, apply SMOTE after converting to dense for non-sparse-safe algorithms\n",
    "print('\\nClass distribution in train:')\n",
    "print(pd.Series(y_train).value_counts())\n"
   ]
  },
  {
   "cell_type": "code",
   "execution_count": 18,
   "id": "426ebd20",
   "metadata": {},
   "outputs": [],
   "source": [
    "models = {\n",
    "    'LogisticRegression': LogisticRegression(max_iter=1000),\n",
    "    'LinearSVC': LinearSVC(max_iter=2000),\n",
    "    'RandomForest': RandomForestClassifier(n_estimators=200, n_jobs=-1, random_state=42)\n",
    "}"
   ]
  },
  {
   "cell_type": "code",
   "execution_count": 19,
   "id": "58e7618f",
   "metadata": {},
   "outputs": [
    {
     "name": "stdout",
     "output_type": "stream",
     "text": [
      "\n",
      "Training LogisticRegression...\n",
      "LogisticRegression accuracy: 0.7350\n",
      "              precision    recall  f1-score   support\n",
      "\n",
      "           1       0.27      0.04      0.06        84\n",
      "           2       0.73      0.92      0.82       736\n",
      "           3       0.76      0.53      0.63       380\n",
      "\n",
      "    accuracy                           0.73      1200\n",
      "   macro avg       0.59      0.50      0.50      1200\n",
      "weighted avg       0.71      0.73      0.70      1200\n",
      "\n",
      "\n",
      "Training LinearSVC...\n",
      "LinearSVC accuracy: 0.7017\n",
      "              precision    recall  f1-score   support\n",
      "\n",
      "           1       0.00      0.00      0.00        84\n",
      "           2       0.68      0.96      0.80       736\n",
      "           3       0.81      0.35      0.49       380\n",
      "\n",
      "    accuracy                           0.70      1200\n",
      "   macro avg       0.50      0.44      0.43      1200\n",
      "weighted avg       0.68      0.70      0.65      1200\n",
      "\n",
      "\n",
      "Training RandomForest...\n",
      "RandomForest accuracy: 0.7242\n",
      "              precision    recall  f1-score   support\n",
      "\n",
      "           1       0.67      0.02      0.05        84\n",
      "           2       0.71      0.95      0.81       736\n",
      "           3       0.79      0.45      0.57       380\n",
      "\n",
      "    accuracy                           0.72      1200\n",
      "   macro avg       0.72      0.47      0.48      1200\n",
      "weighted avg       0.73      0.72      0.68      1200\n",
      "\n"
     ]
    }
   ],
   "source": [
    "results = {}\n",
    "for name, model in models.items():\n",
    "    print(f'\\nTraining {name}...')\n",
    "    model.fit(X_train, y_train)\n",
    "    y_pred = model.predict(X_test)\n",
    "    acc = accuracy_score(y_test, y_pred)\n",
    "    print(f'{name} accuracy: {acc:.4f}')\n",
    "    print(classification_report(y_test, y_pred))\n",
    "    results[name] = {'model': model, 'acc': acc}\n"
   ]
  },
  {
   "cell_type": "code",
   "execution_count": 20,
   "id": "c08fb42f",
   "metadata": {},
   "outputs": [
    {
     "name": "stderr",
     "output_type": "stream",
     "text": [
      "/home/kibria/dl_env/lib/python3.12/site-packages/sklearn/linear_model/_logistic.py:465: ConvergenceWarning: lbfgs failed to converge (status=1):\n",
      "STOP: TOTAL NO. OF ITERATIONS REACHED LIMIT.\n",
      "\n",
      "Increase the number of iterations (max_iter) or scale the data as shown in:\n",
      "    https://scikit-learn.org/stable/modules/preprocessing.html\n",
      "Please also refer to the documentation for alternative solver options:\n",
      "    https://scikit-learn.org/stable/modules/linear_model.html#logistic-regression\n",
      "  n_iter_i = _check_optimize_result(\n",
      "/home/kibria/dl_env/lib/python3.12/site-packages/sklearn/linear_model/_logistic.py:465: ConvergenceWarning: lbfgs failed to converge (status=1):\n",
      "STOP: TOTAL NO. OF ITERATIONS REACHED LIMIT.\n",
      "\n",
      "Increase the number of iterations (max_iter) or scale the data as shown in:\n",
      "    https://scikit-learn.org/stable/modules/preprocessing.html\n",
      "Please also refer to the documentation for alternative solver options:\n",
      "    https://scikit-learn.org/stable/modules/linear_model.html#logistic-regression\n",
      "  n_iter_i = _check_optimize_result(\n",
      "/home/kibria/dl_env/lib/python3.12/site-packages/sklearn/linear_model/_logistic.py:465: ConvergenceWarning: lbfgs failed to converge (status=1):\n",
      "STOP: TOTAL NO. OF ITERATIONS REACHED LIMIT.\n",
      "\n",
      "Increase the number of iterations (max_iter) or scale the data as shown in:\n",
      "    https://scikit-learn.org/stable/modules/preprocessing.html\n",
      "Please also refer to the documentation for alternative solver options:\n",
      "    https://scikit-learn.org/stable/modules/linear_model.html#logistic-regression\n",
      "  n_iter_i = _check_optimize_result(\n",
      "/home/kibria/dl_env/lib/python3.12/site-packages/sklearn/linear_model/_logistic.py:465: ConvergenceWarning: lbfgs failed to converge (status=1):\n",
      "STOP: TOTAL NO. OF ITERATIONS REACHED LIMIT.\n",
      "\n",
      "Increase the number of iterations (max_iter) or scale the data as shown in:\n",
      "    https://scikit-learn.org/stable/modules/preprocessing.html\n",
      "Please also refer to the documentation for alternative solver options:\n",
      "    https://scikit-learn.org/stable/modules/linear_model.html#logistic-regression\n",
      "  n_iter_i = _check_optimize_result(\n",
      "/home/kibria/dl_env/lib/python3.12/site-packages/sklearn/linear_model/_logistic.py:465: ConvergenceWarning: lbfgs failed to converge (status=1):\n",
      "STOP: TOTAL NO. OF ITERATIONS REACHED LIMIT.\n",
      "\n",
      "Increase the number of iterations (max_iter) or scale the data as shown in:\n",
      "    https://scikit-learn.org/stable/modules/preprocessing.html\n",
      "Please also refer to the documentation for alternative solver options:\n",
      "    https://scikit-learn.org/stable/modules/linear_model.html#logistic-regression\n",
      "  n_iter_i = _check_optimize_result(\n",
      "/home/kibria/dl_env/lib/python3.12/site-packages/sklearn/linear_model/_logistic.py:465: ConvergenceWarning: lbfgs failed to converge (status=1):\n",
      "STOP: TOTAL NO. OF ITERATIONS REACHED LIMIT.\n",
      "\n",
      "Increase the number of iterations (max_iter) or scale the data as shown in:\n",
      "    https://scikit-learn.org/stable/modules/preprocessing.html\n",
      "Please also refer to the documentation for alternative solver options:\n",
      "    https://scikit-learn.org/stable/modules/linear_model.html#logistic-regression\n",
      "  n_iter_i = _check_optimize_result(\n",
      "/home/kibria/dl_env/lib/python3.12/site-packages/sklearn/linear_model/_logistic.py:465: ConvergenceWarning: lbfgs failed to converge (status=1):\n",
      "STOP: TOTAL NO. OF ITERATIONS REACHED LIMIT.\n",
      "\n",
      "Increase the number of iterations (max_iter) or scale the data as shown in:\n",
      "    https://scikit-learn.org/stable/modules/preprocessing.html\n",
      "Please also refer to the documentation for alternative solver options:\n",
      "    https://scikit-learn.org/stable/modules/linear_model.html#logistic-regression\n",
      "  n_iter_i = _check_optimize_result(\n",
      "/home/kibria/dl_env/lib/python3.12/site-packages/sklearn/linear_model/_logistic.py:465: ConvergenceWarning: lbfgs failed to converge (status=1):\n",
      "STOP: TOTAL NO. OF ITERATIONS REACHED LIMIT.\n",
      "\n",
      "Increase the number of iterations (max_iter) or scale the data as shown in:\n",
      "    https://scikit-learn.org/stable/modules/preprocessing.html\n",
      "Please also refer to the documentation for alternative solver options:\n",
      "    https://scikit-learn.org/stable/modules/linear_model.html#logistic-regression\n",
      "  n_iter_i = _check_optimize_result(\n",
      "/home/kibria/dl_env/lib/python3.12/site-packages/sklearn/linear_model/_logistic.py:465: ConvergenceWarning: lbfgs failed to converge (status=1):\n",
      "STOP: TOTAL NO. OF ITERATIONS REACHED LIMIT.\n",
      "\n",
      "Increase the number of iterations (max_iter) or scale the data as shown in:\n",
      "    https://scikit-learn.org/stable/modules/preprocessing.html\n",
      "Please also refer to the documentation for alternative solver options:\n",
      "    https://scikit-learn.org/stable/modules/linear_model.html#logistic-regression\n",
      "  n_iter_i = _check_optimize_result(\n"
     ]
    },
    {
     "name": "stdout",
     "output_type": "stream",
     "text": [
      "\n",
      "Best params for LogisticRegression: {'C': 10}\n",
      "CV best score: 0.7057680108105204\n",
      "\n",
      "Classification report for best LogisticRegression:\n",
      "              precision    recall  f1-score   support\n",
      "\n",
      "           1       0.38      0.04      0.07        84\n",
      "           2       0.75      0.90      0.82       736\n",
      "           3       0.72      0.58      0.64       380\n",
      "\n",
      "    accuracy                           0.74      1200\n",
      "   macro avg       0.62      0.51      0.51      1200\n",
      "weighted avg       0.71      0.74      0.71      1200\n",
      "\n"
     ]
    }
   ],
   "source": [
    "param_grid = {'C': [0.01, 0.1, 1, 10]}\n",
    "cv = StratifiedKFold(n_splits=3, shuffle=True, random_state=42)\n",
    "clf = GridSearchCV(LogisticRegression(max_iter=1000), param_grid, cv=cv, scoring='f1_weighted', n_jobs=-1)\n",
    "clf.fit(X_train, y_train)\n",
    "print('\\nBest params for LogisticRegression:', clf.best_params_)\n",
    "print('CV best score:', clf.best_score_)\n",
    "\n",
    "# Evaluate best estimator\n",
    "best_lr = clf.best_estimator_\n",
    "y_pred = best_lr.predict(X_test)\n",
    "print('\\nClassification report for best LogisticRegression:')\n",
    "print(classification_report(y_test, y_pred))\n"
   ]
  },
  {
   "cell_type": "code",
   "execution_count": 21,
   "id": "a0f4e8f8",
   "metadata": {},
   "outputs": [
    {
     "data": {
      "image/png": "[encoded data removed]",
      "text/plain": [
       "<Figure size 1000x600 with 2 Axes>"
      ]
     },
     "metadata": {},
     "output_type": "display_data"
    }
   ],
   "source": [
    "# Confusion matrix for best LR\n",
    "cm = confusion_matrix(y_test, y_pred)\n",
    "plt.figure()\n",
    "sns.heatmap(cm, annot=True, fmt='d', cmap='Blues')\n",
    "plt.title('Confusion Matrix - LogisticRegression')\n",
    "plt.xlabel('Predicted')\n",
    "plt.ylabel('Actual')\n",
    "plt.show()"
   ]
  },
  {
   "cell_type": "code",
   "execution_count": 22,
   "id": "baceb79a",
   "metadata": {},
   "outputs": [
    {
     "data": {
      "text/plain": [
       "3"
      ]
     },
     "execution_count": 22,
     "metadata": {},
     "output_type": "execute_result"
    }
   ],
   "source": [
    "len(np.unique(y))"
   ]
  },
  {
   "cell_type": "code",
   "execution_count": 23,
   "id": "44f4fd95",
   "metadata": {},
   "outputs": [
    {
     "name": "stdout",
     "output_type": "stream",
     "text": [
      "Multiclass ROC AUC (OvR): 0.8315948174288806\n"
     ]
    },
    {
     "data": {
      "image/png": "[encoded data removed]",
      "text/plain": [
       "<Figure size 1000x600 with 1 Axes>"
      ]
     },
     "metadata": {},
     "output_type": "display_data"
    }
   ],
   "source": [
    "# Binarize labels for multiclass\n",
    "from sklearn.preprocessing import label_binarize\n",
    "classes = np.unique(y)\n",
    "y_test_bin = label_binarize(y_test, classes=classes)\n",
    "y_score = best_lr.predict_proba(X_test)\n",
    "\n",
    "# Compute AUC for each class\n",
    "auc = roc_auc_score(y_test_bin, y_score, multi_class='ovr')\n",
    "print(\"Multiclass ROC AUC (OvR):\", auc)\n",
    "\n",
    "# Plot ROC for each class\n",
    "plt.figure()\n",
    "for i, class_label in enumerate(classes):\n",
    "    fpr, tpr, _ = roc_curve(y_test_bin[:, i], y_score[:, i])\n",
    "    plt.plot(fpr, tpr, label=f'Class {class_label} (AUC={roc_auc_score(y_test_bin[:, i], y_score[:, i]):.2f})')\n",
    "\n",
    "plt.title('Multiclass ROC Curve')\n",
    "plt.xlabel('False Positive Rate')\n",
    "plt.ylabel('True Positive Rate')\n",
    "plt.legend()\n",
    "plt.show()"
   ]
  },
  {
   "cell_type": "code",
   "execution_count": null,
   "id": "77138c00",
   "metadata": {},
   "outputs": [],
   "source": []
  },
  {
   "cell_type": "code",
   "execution_count": 24,
   "id": "49987adb",
   "metadata": {},
   "outputs": [
    {
     "name": "stdout",
     "output_type": "stream",
     "text": [
      "T-test between label 1 and 2: t=1.273, p=2.036e-01\n",
      "Chi-square test for hashtag presence vs sentiment: chi2=0.000 p=1.000e+00\n"
     ]
    }
   ],
   "source": [
    "# Example hypothesis: \"Mean tweet length differs between positive and negative tweets\"\n",
    "from scipy.stats import ttest_ind, chi2_contingency\n",
    "\n",
    "# Prepare groups (only if binary or picking two labels)\n",
    "unique_labels = list(pd.Series(y).unique())\n",
    "if len(unique_labels) >= 2:\n",
    "    a_label, b_label = unique_labels[0], unique_labels[1]\n",
    "    a_lens = df.loc[y == a_label, 'text_len']\n",
    "    b_lens = df.loc[y == b_label, 'text_len']\n",
    "    tstat, pval = ttest_ind(a_lens, b_lens, equal_var=False)\n",
    "    print(f\"T-test between label {a_label} and {b_label}: t={tstat:.3f}, p={pval:.3e}\")\n",
    "\n",
    "# Chi-square: are hashtags associated with sentiment? Build contingency table for presence of hashtags\n",
    "hashtag_presence = (df['num_hashtags'] > 0).astype(int) if 'num_hashtags' in df.columns else (df['text'].str.contains('#').astype(int))\n",
    "cont_table = pd.crosstab(hashtag_presence, y)\n",
    "chi2, p, dof, ex = chi2_contingency(cont_table)\n",
    "print('Chi-square test for hashtag presence vs sentiment: chi2=%.3f p=%.3e' % (chi2, p))"
   ]
  },
  {
   "cell_type": "code",
   "execution_count": 25,
   "id": "927d295f",
   "metadata": {},
   "outputs": [
    {
     "name": "stdout",
     "output_type": "stream",
     "text": [
      "\n",
      "Top positive features for class 0:\n",
      "['covaxin astrazeneca', 'covaxin congressmuktbharat', 'biotech aiims', 'another batch', 'africa', 'also set', 'also take', 'also want', 'brazilian partner', 'covaxin covidvaccination', 'adenovirus', 'covaxin arrive', 'coronavirusvaccination infant', 'covaxin delhi', 'covid jab', 'covaxin covishieldindia', 'covid spring', 'craft', 'correct miss', 'covaxin since']\n",
      "\n",
      "Top positive features for class 1:\n",
      "['clot receiving', 'craig', 'covaxin allow', 'corrupt', 'countering covid', 'covid largestvaccinedrive', 'count found', 'canada get', 'covaxin faug', 'covid reveals', 'coronavirusvaccine pfizervaccine', 'arriba venezuela', 'announced today', 'covid ncovid', 'covid country', 'country ie', 'covid columbus', 'coronavac donated', 'covid click', 'covidends']\n",
      "\n",
      "Top positive features for class 2:\n",
      "['covidvaccination cowin', 'china coronavaccine', 'convince', 'controversial possibly', 'buying sputnikv', 'corona ji', 'covid thankyou', 'contributing', 'cheer', 'copd folk', 'contributor moderna', 'covidvaccinearrives johnsonandjohnson', 'covidvaccine approved', 'covidvaccination phase', 'covid dadlife', 'available uk', 'correspondence', 'covidvaccinedelays', 'covid two', 'covaxin dispelling']\n"
     ]
    }
   ],
   "source": [
    "# ---------------------------\n",
    "if hasattr(best_lr, 'coef_'):\n",
    "    feature_names = vectorizer.get_feature_names_out()\n",
    "    k_show = 20\n",
    "    for i, class_coef in enumerate(best_lr.coef_ if best_lr.coef_.ndim > 1 else [best_lr.coef_]):\n",
    "        top_pos = np.argsort(class_coef)[-k_show:][::-1]\n",
    "        top_neg = np.argsort(class_coef)[:k_show]\n",
    "        print(f\"\\nTop positive features for class {i}:\")\n",
    "        print([feature_names[idx] for idx in top_pos if idx < len(feature_names)])"
   ]
  },
  {
   "cell_type": "code",
   "execution_count": null,
   "id": "df5cbfea",
   "metadata": {},
   "outputs": [],
   "source": []
  },
  {
   "cell_type": "code",
   "execution_count": null,
   "id": "45535e04",
   "metadata": {},
   "outputs": [],
   "source": []
  }
 ],
 "metadata": {
  "kernelspec": {
   "display_name": "Python (dl_env)",
   "language": "python",
   "name": "dl_env"
  },
  "language_info": {
   "codemirror_mode": {
    "name": "ipython",
    "version": 3
   },
   "file_extension": ".py",
   "mimetype": "text/x-python",
   "name": "python",
   "nbconvert_exporter": "python",
   "pygments_lexer": "ipython3",
   "version": "3.12.3"
  }
 },
 "nbformat": 4,
 "nbformat_minor": 5
}
